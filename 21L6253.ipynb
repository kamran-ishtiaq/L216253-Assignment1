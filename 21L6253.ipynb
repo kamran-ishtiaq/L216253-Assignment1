{
  "nbformat": 4,
  "nbformat_minor": 0,
  "metadata": {
    "colab": {
      "provenance": [],
      "collapsed_sections": []
    },
    "kernelspec": {
      "name": "python3",
      "display_name": "Python 3"
    },
    "language_info": {
      "name": "python"
    }
  },
  "cells": [
    {
      "cell_type": "markdown",
      "source": [
        "**Question 1**"
      ],
      "metadata": {
        "id": "H4ou09oIIQNx"
      }
    },
    {
      "cell_type": "markdown",
      "source": [
        "Define a procedure called \"check_input\" that takes an input as a square list of lists (2D Matrix of N x N) and returns a boolen \"true\" if the input is valid or \"false\" otherwise, according to the following criteria.\n",
        "\n",
        "Each coloumn must contain numbers from between 1 and N, with no duplicates.\n",
        "Each row must contain numbers from between 1 and N, with no duplicates"
      ],
      "metadata": {
        "id": "PQ89_CLzIXtQ"
      }
    },
    {
      "cell_type": "code",
      "source": [
        "def check_input(array):\n",
        "\n",
        "    rows_count = 0\n",
        "    colm_count = 0\n",
        "\n",
        "    x = len(array[0])\n",
        "\n",
        "\n",
        "    for i in range(0,x):\n",
        "        for j in range(1,x):\n",
        "            if(array[i][0]==array[i][j] or type(array[i][j])==str):\n",
        "                rows_count = rows_count + 1\n",
        "                   \n",
        "    for j in range(0,3):\n",
        "        for i in range(1,3):\n",
        "            if(array[0][j]==array[i][j] or type(array[i][j])==str):\n",
        "                colm_count = colm_count + 1\n",
        "\n",
        "\n",
        "    if(rows_count==0 and colm_count==0):\n",
        "        return True\n",
        "    else:\n",
        "        return False\n",
        "\n",
        "test1 = [[1, 2, 3],\n",
        "        [2, 3, 1],\n",
        "        [3, 1, 2]]\n",
        "\n",
        "test2 = [[1, 2, 3, 4],\n",
        "        [2, 3, 1, 3],\n",
        "        [3, 1, 2, 3],\n",
        "        [4, 4, 4, 4]]\n",
        "\n",
        "test3 = [['a', 'b', 'c'],\n",
        "        ['b', 'c', 'a'],\n",
        "        ['c', 'a', 'b']]\n",
        "\n",
        "print(check_input(test1)) # must return true\n",
        "print(check_input(test2)) # must return false\n",
        "print(check_input(test3)) # must return false"
      ],
      "metadata": {
        "colab": {
          "base_uri": "https://localhost:8080/"
        },
        "id": "UtGcqAx-IRTI",
        "outputId": "894b5e80-0e0f-4c27-a929-661ed383e6a1"
      },
      "execution_count": 117,
      "outputs": [
        {
          "output_type": "stream",
          "name": "stdout",
          "text": [
            "True\n",
            "False\n",
            "False\n"
          ]
        }
      ]
    },
    {
      "cell_type": "markdown",
      "source": [
        "**Question 2**"
      ],
      "metadata": {
        "id": "b8K3mxqBzeGZ"
      }
    },
    {
      "cell_type": "markdown",
      "source": [
        "Part A - Import the file \"StudentMarkSheet.csv\" as a Pandas DataFrame and print the information for the dataframe"
      ],
      "metadata": {
        "id": "zfRoPtovzXyA"
      }
    },
    {
      "cell_type": "code",
      "source": [
        "import pandas as pd\n",
        "df = pd.read_csv(\"/content/drive/MyDrive/StudentMarkSheet.csv\")\n",
        "print(df.info())\n"
      ],
      "metadata": {
        "colab": {
          "base_uri": "https://localhost:8080/"
        },
        "id": "UnHLKF3_pylT",
        "outputId": "976df536-9e5a-459e-d59d-f246d8edc347"
      },
      "execution_count": 118,
      "outputs": [
        {
          "output_type": "stream",
          "name": "stdout",
          "text": [
            "<class 'pandas.core.frame.DataFrame'>\n",
            "RangeIndex: 200 entries, 0 to 199\n",
            "Data columns (total 4 columns):\n",
            " #   Column        Non-Null Count  Dtype  \n",
            "---  ------        --------------  -----  \n",
            " 0   Student name  200 non-null    object \n",
            " 1   Exam name     199 non-null    object \n",
            " 2   Exam date     200 non-null    object \n",
            " 3   Marks         197 non-null    float64\n",
            "dtypes: float64(1), object(3)\n",
            "memory usage: 6.4+ KB\n",
            "None\n"
          ]
        }
      ]
    },
    {
      "cell_type": "markdown",
      "source": [
        "Part B - Remove any rows that do not contain all the data. Also print the following information.\n",
        "\n",
        "Number of rows before\n",
        "Number of rows containing null data\n",
        "Number of rows after\n"
      ],
      "metadata": {
        "id": "di0aEudBzkkx"
      }
    },
    {
      "cell_type": "code",
      "source": [
        "b=len(df)\n",
        "df=df.dropna(how='all')\n",
        "a=len(df)\n",
        "print (\"Total ROWS: \" , b )\n",
        "print (\"No. of Rows which contains All Values Missing: \" , a )\n",
        "df=df.dropna(how='any')\n",
        "c=len(df)\n",
        "d=b-c;\n",
        "e=b-d;\n",
        "print (\"No. of Rows which contains Any Values Missing: \" , d )\n",
        "print (\"No. of Rows AFter Deleting: \" , e )\n"
      ],
      "metadata": {
        "colab": {
          "base_uri": "https://localhost:8080/"
        },
        "id": "dXi6wMQMznuV",
        "outputId": "30d03d5d-cbed-467e-8200-f1e8a8eb8915"
      },
      "execution_count": null,
      "outputs": [
        {
          "output_type": "stream",
          "name": "stdout",
          "text": [
            "Total ROWS:  200\n",
            "No. of Rows which contains All Values Missing:  200\n",
            "No. of Rows which contains Any Values Missing:  4\n",
            "No. of Rows AFter Deleting:  196\n"
          ]
        }
      ]
    },
    {
      "cell_type": "markdown",
      "source": [
        "Part C - Print all the marks along with the subject for the student named \"James Walker\"\n"
      ],
      "metadata": {
        "id": "c6jl7gOIzwGv"
      }
    },
    {
      "cell_type": "code",
      "source": [
        "print (df[df['Student name']=='James Walker'])"
      ],
      "metadata": {
        "colab": {
          "base_uri": "https://localhost:8080/"
        },
        "id": "BFNSjS2uzxqR",
        "outputId": "b2cce7fe-2d50-4be1-ce7c-43d19f8a47b6"
      },
      "execution_count": null,
      "outputs": [
        {
          "output_type": "stream",
          "name": "stdout",
          "text": [
            "     Student name    Exam name   Exam date  Marks\n",
            "0    James Walker      Biology  05/06/2016   31.0\n",
            "42   James Walker    Chemistry  15/06/2016   61.0\n",
            "71   James Walker  Mathematics  29/07/2016   23.0\n",
            "150  James Walker      Physics  10/06/2016  100.0\n",
            "180  James Walker    Sociology  21/06/2016   73.0\n"
          ]
        }
      ]
    },
    {
      "cell_type": "markdown",
      "source": [
        "**Question 3**"
      ],
      "metadata": {
        "id": "F5Gannmf5HHw"
      }
    },
    {
      "cell_type": "markdown",
      "source": [
        "Part A - From the DataFrame created in Question 2, calculate the average marks for each subject"
      ],
      "metadata": {
        "id": "codSGrTO5JMw"
      }
    },
    {
      "cell_type": "code",
      "source": [
        "Average_Bio = df[df[\"Exam name\"]==\"Biology\"]\n",
        "#print (Average_Bio)  # Print all marks of BIO\n",
        "Average_Bio = Average_Bio[\"Marks\"]  # Exclude All other Elements\n",
        "total = Average_Bio.sum()\n",
        "length = len(Average_Bio)\n",
        "a=total / length\n",
        "print (\"Average of Bio Marks is \" , a)\n",
        "\n",
        "Average_chem = df[df[\"Exam name\"]==\"Chemistry\"]\n",
        "#print (Average_chem)  # Print all marks of chem\n",
        "Average_chem = Average_chem[\"Marks\"]  # Exclude All other Elements\n",
        "total = Average_chem.sum()\n",
        "length = len(Average_chem)\n",
        "b=total / length\n",
        "print (\"Average of Chemistry Marks is \" , b)\n",
        "\n",
        "Average_math = df[df[\"Exam name\"]==\"Mathematics\"]\n",
        "#print (Average_math)  # Print all marks of math\n",
        "Average_math = Average_math[\"Marks\"]  # Exclude All other Elements\n",
        "total = Average_math.sum()\n",
        "length = len(Average_math)\n",
        "c=total / length\n",
        "print (\"Average of Math Marks is \" , c)\n",
        "\n",
        "Average_Philosophy = df[df[\"Exam name\"]==\"Philosophy\"]\n",
        "#print (Average_Philosophy)  # Print all marks of Philosophy\n",
        "Average_Philosophy = Average_Philosophy[\"Marks\"]  # Exclude All other Elements\n",
        "total = Average_Philosophy.sum()\n",
        "length = len(Average_Philosophy)\n",
        "d=total / length\n",
        "print (\"Average of Philosophy Marks is \" , d)\n",
        "\n",
        "Average_phy = df[df[\"Exam name\"]==\"Physics\"]\n",
        "#print (Average_phy)  # Print all marks of phy\n",
        "Average_phy = Average_phy[\"Marks\"]  # Exclude All other Elements\n",
        "total = Average_phy.sum()\n",
        "length = len(Average_phy)\n",
        "e=total / length\n",
        "print (\"Average of Physics Marks is \" , e)\n",
        "\n",
        "Average_Sociology = df[df[\"Exam name\"]==\"Sociology\"]\n",
        "#print (Average_Sociology)  # Print all marks of sociology\n",
        "Average_Sociology = Average_Sociology[\"Marks\"]  # Exclude All other Elements  \n",
        "total = Average_Sociology.sum()\n",
        "length = len(Average_Sociology)\n",
        "f=total / length\n",
        "print (\"Average of Sociology Marks is \" , f)\n",
        "\n",
        "import matplotlib.pyplot as plt\n",
        "subjects = [\"Bio\" , \"Chem\" , \"Math\", \"Philospphy\",\"phy\",\"Sociology\"]\n",
        "Average = [ a, b, c , d, e, f]\n",
        "\n",
        "plt.ylabel(\"Average Marks Numbers\")\n",
        "plt.xlabel(\"Subject Name\")\n",
        "plt.title(\"Average marks Graph of 6 Subjects\")\n",
        "plt.bar( subjects, Average)\n",
        "\n",
        "\n"
      ],
      "metadata": {
        "colab": {
          "base_uri": "https://localhost:8080/",
          "height": 416
        },
        "id": "YPBx5s2J5Ln8",
        "outputId": "4461508a-a39e-4e12-f4e0-119ac3e2087d"
      },
      "execution_count": null,
      "outputs": [
        {
          "output_type": "stream",
          "name": "stdout",
          "text": [
            "Average of Bio Marks is  47.89473684210526\n",
            "Average of Chemistry Marks is  50.57692307692308\n",
            "Average of Math Marks is  48.97222222222222\n",
            "Average of Philosophy Marks is  47.270270270270274\n",
            "Average of Physics Marks is  51.76190476190476\n",
            "Average of Sociology Marks is  56.026315789473685\n"
          ]
        },
        {
          "output_type": "execute_result",
          "data": {
            "text/plain": [
              "<BarContainer object of 6 artists>"
            ]
          },
          "metadata": {},
          "execution_count": 72
        },
        {
          "output_type": "display_data",
          "data": {
            "text/plain": [
              "<Figure size 432x288 with 1 Axes>"
            ],
            "image/png": "[encoded data removed]"
          },
          "metadata": {
            "needs_background": "light"
          }
        }
      ]
    },
    {
      "cell_type": "markdown",
      "source": [
        "**Question 4**"
      ],
      "metadata": {
        "id": "qpXEDrZn-rnI"
      }
    },
    {
      "cell_type": "markdown",
      "source": [
        "Part A - Import the file \"CatData.csv\" and preprocess it to remove any null values"
      ],
      "metadata": {
        "id": "wW-6u01L-wrI"
      }
    },
    {
      "cell_type": "code",
      "source": [
        "import pandas as pd\n",
        "df = pd.read_csv(\"/content/drive/MyDrive/CatData.csv\")\n",
        "df=df.dropna(how = 'all')\n",
        "df=df.dropna(how = 'any')\n",
        "print(df)\n"
      ],
      "metadata": {
        "colab": {
          "base_uri": "https://localhost:8080/"
        },
        "id": "yzf292f6-zu5",
        "outputId": "eb856f96-7dfd-4499-e600-edd16ab2246f"
      },
      "execution_count": null,
      "outputs": [
        {
          "output_type": "stream",
          "name": "stdout",
          "text": [
            "     Tail Length (cm)  Mass (kg)\n",
            "0                18.1      3.750\n",
            "1                18.6      3.800\n",
            "2                19.5      3.250\n",
            "3                19.3      3.450\n",
            "4                19.0      3.650\n",
            "..                ...        ...\n",
            "337              20.7      4.000\n",
            "338              20.2      3.400\n",
            "339              19.3      3.775\n",
            "340              21.0      4.100\n",
            "341              19.8      3.775\n",
            "\n",
            "[342 rows x 2 columns]\n"
          ]
        }
      ]
    },
    {
      "cell_type": "markdown",
      "source": [
        "Part B - Identify the independant and dependant variables (comment answer below)"
      ],
      "metadata": {
        "id": "5eu1zMLM-1Qg"
      }
    },
    {
      "cell_type": "code",
      "source": [
        "# dependant variable:  Mass\n",
        "# independant variable: Tail Length "
      ],
      "metadata": {
        "id": "HWhBWTXL-20g"
      },
      "execution_count": null,
      "outputs": []
    },
    {
      "cell_type": "markdown",
      "source": [
        "Part C - Create a linear regression model using sklearn and fit it to the data you just imported"
      ],
      "metadata": {
        "id": "HU2dOUJc-3eA"
      }
    },
    {
      "cell_type": "code",
      "source": [
        "import numpy as np\n",
        "import matplotlib.pyplot as plt\n",
        "from sklearn import linear_model\n",
        "\n",
        "import pandas as pd\n",
        "df = pd.read_csv(\"/content/drive/MyDrive/CatData.csv\")\n",
        "df=df.dropna(how = 'all')\n",
        "df=df.dropna(how = 'any')\n",
        "#print(df)\n",
        "\n",
        "num = int (len(df) * 0.8 )\n",
        "train = df [:num]\n",
        "test = df [num:]\n",
        "\n",
        "reg = linear_model.LinearRegression()\n",
        "train_x=np.array(train[[\"Tail Length (cm)\"]])\n",
        "train_y= np.array(train[[\"Mass (kg)\"]])\n",
        "reg.fit( train_x, train_y)\n",
        "\n"
      ],
      "metadata": {
        "id": "CkhLxp3n-5Zw",
        "colab": {
          "base_uri": "https://localhost:8080/"
        },
        "outputId": "82e7e31e-3b43-40c8-bb11-96c56c11515a"
      },
      "execution_count": 123,
      "outputs": [
        {
          "output_type": "execute_result",
          "data": {
            "text/plain": [
              "LinearRegression()"
            ]
          },
          "metadata": {},
          "execution_count": 123
        }
      ]
    },
    {
      "cell_type": "markdown",
      "source": [
        "Part D - Print the values for slope and y-intercept"
      ],
      "metadata": {
        "id": "5sMKwY---7kg"
      }
    },
    {
      "cell_type": "code",
      "source": [
        "coeff= reg.coef_\n",
        "inter= reg.intercept_\n",
        "print(\"Slope: \", coeff)\n",
        "print(\"Intercept: \" , inter)"
      ],
      "metadata": {
        "id": "2S6To9Y6-8aA",
        "colab": {
          "base_uri": "https://localhost:8080/"
        },
        "outputId": "c3d41c38-b56d-4e90-b042-3cc8a1414e96"
      },
      "execution_count": 122,
      "outputs": [
        {
          "output_type": "stream",
          "name": "stdout",
          "text": [
            "Slope:  [[0.48913766]]\n",
            "Intercept:  [-5.57328662]\n"
          ]
        }
      ]
    },
    {
      "cell_type": "markdown",
      "source": [
        "Part E - Plot a scatter graph of the original data and a regression line on the same figure (example with dummy data shown below)"
      ],
      "metadata": {
        "id": "woE4BV29--Op"
      }
    },
    {
      "cell_type": "code",
      "source": [
        "plt.xlabel(\"Tail Length (cm)\")\n",
        "plt.ylabel(\"Mass (kg)\")\n",
        "plt.title(\"Relation Between Length and Mass\")\n",
        "plt.scatter(train[\"Tail Length (cm)\"] , train[\"Mass (kg)\"])\n",
        "plt.plot(train_x,train_x*coeff[0]+inter , color = 'red')\n",
        "plt.show()"
      ],
      "metadata": {
        "id": "JkDsrWdC-_sY",
        "colab": {
          "base_uri": "https://localhost:8080/",
          "height": 295
        },
        "outputId": "4f7809ba-5cd7-405f-ad5a-b43f247f1b94"
      },
      "execution_count": 131,
      "outputs": [
        {
          "output_type": "display_data",
          "data": {
            "text/plain": [
              "<Figure size 432x288 with 1 Axes>"
            ],
            "image/png": "[encoded data removed]"
          },
          "metadata": {
            "needs_background": "light"
          }
        }
      ]
    }
  ]
}